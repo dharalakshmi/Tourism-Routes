{
  "nbformat": 4,
  "nbformat_minor": 0,
  "metadata": {
    "colab": {
      "provenance": []
    },
    "kernelspec": {
      "name": "python3",
      "display_name": "Python 3"
    },
    "language_info": {
      "name": "python"
    }
  },
  "cells": [
    {
      "cell_type": "code",
      "execution_count": null,
      "metadata": {
        "colab": {
          "base_uri": "https://localhost:8080/",
          "height": 175
        },
        "id": "tn6FP3-1osTI",
        "outputId": "16c92f40-29f9-4f4b-e13d-65e6b8693514"
      },
      "outputs": [
        {
          "output_type": "display_data",
          "data": {
            "text/plain": [
              "<IPython.core.display.HTML object>"
            ],
            "text/html": [
              "\n",
              "     <input type=\"file\" id=\"files-de9c8623-c059-44ef-933b-65178e59cb20\" name=\"files[]\" multiple disabled\n",
              "        style=\"border:none\" />\n",
              "     <output id=\"result-de9c8623-c059-44ef-933b-65178e59cb20\">\n",
              "      Upload widget is only available when the cell has been executed in the\n",
              "      current browser session. Please rerun this cell to enable.\n",
              "      </output>\n",
              "      <script>// Copyright 2017 Google LLC\n",
              "//\n",
              "// Licensed under the Apache License, Version 2.0 (the \"License\");\n",
              "// you may not use this file except in compliance with the License.\n",
              "// You may obtain a copy of the License at\n",
              "//\n",
              "//      http://www.apache.org/licenses/LICENSE-2.0\n",
              "//\n",
              "// Unless required by applicable law or agreed to in writing, software\n",
              "// distributed under the License is distributed on an \"AS IS\" BASIS,\n",
              "// WITHOUT WARRANTIES OR CONDITIONS OF ANY KIND, either express or implied.\n",
              "// See the License for the specific language governing permissions and\n",
              "// limitations under the License.\n",
              "\n",
              "/**\n",
              " * @fileoverview Helpers for google.colab Python module.\n",
              " */\n",
              "(function(scope) {\n",
              "function span(text, styleAttributes = {}) {\n",
              "  const element = document.createElement('span');\n",
              "  element.textContent = text;\n",
              "  for (const key of Object.keys(styleAttributes)) {\n",
              "    element.style[key] = styleAttributes[key];\n",
              "  }\n",
              "  return element;\n",
              "}\n",
              "\n",
              "// Max number of bytes which will be uploaded at a time.\n",
              "const MAX_PAYLOAD_SIZE = 100 * 1024;\n",
              "\n",
              "function _uploadFiles(inputId, outputId) {\n",
              "  const steps = uploadFilesStep(inputId, outputId);\n",
              "  const outputElement = document.getElementById(outputId);\n",
              "  // Cache steps on the outputElement to make it available for the next call\n",
              "  // to uploadFilesContinue from Python.\n",
              "  outputElement.steps = steps;\n",
              "\n",
              "  return _uploadFilesContinue(outputId);\n",
              "}\n",
              "\n",
              "// This is roughly an async generator (not supported in the browser yet),\n",
              "// where there are multiple asynchronous steps and the Python side is going\n",
              "// to poll for completion of each step.\n",
              "// This uses a Promise to block the python side on completion of each step,\n",
              "// then passes the result of the previous step as the input to the next step.\n",
              "function _uploadFilesContinue(outputId) {\n",
              "  const outputElement = document.getElementById(outputId);\n",
              "  const steps = outputElement.steps;\n",
              "\n",
              "  const next = steps.next(outputElement.lastPromiseValue);\n",
              "  return Promise.resolve(next.value.promise).then((value) => {\n",
              "    // Cache the last promise value to make it available to the next\n",
              "    // step of the generator.\n",
              "    outputElement.lastPromiseValue = value;\n",
              "    return next.value.response;\n",
              "  });\n",
              "}\n",
              "\n",
              "/**\n",
              " * Generator function which is called between each async step of the upload\n",
              " * process.\n",
              " * @param {string} inputId Element ID of the input file picker element.\n",
              " * @param {string} outputId Element ID of the output display.\n",
              " * @return {!Iterable<!Object>} Iterable of next steps.\n",
              " */\n",
              "function* uploadFilesStep(inputId, outputId) {\n",
              "  const inputElement = document.getElementById(inputId);\n",
              "  inputElement.disabled = false;\n",
              "\n",
              "  const outputElement = document.getElementById(outputId);\n",
              "  outputElement.innerHTML = '';\n",
              "\n",
              "  const pickedPromise = new Promise((resolve) => {\n",
              "    inputElement.addEventListener('change', (e) => {\n",
              "      resolve(e.target.files);\n",
              "    });\n",
              "  });\n",
              "\n",
              "  const cancel = document.createElement('button');\n",
              "  inputElement.parentElement.appendChild(cancel);\n",
              "  cancel.textContent = 'Cancel upload';\n",
              "  const cancelPromise = new Promise((resolve) => {\n",
              "    cancel.onclick = () => {\n",
              "      resolve(null);\n",
              "    };\n",
              "  });\n",
              "\n",
              "  // Wait for the user to pick the files.\n",
              "  const files = yield {\n",
              "    promise: Promise.race([pickedPromise, cancelPromise]),\n",
              "    response: {\n",
              "      action: 'starting',\n",
              "    }\n",
              "  };\n",
              "\n",
              "  cancel.remove();\n",
              "\n",
              "  // Disable the input element since further picks are not allowed.\n",
              "  inputElement.disabled = true;\n",
              "\n",
              "  if (!files) {\n",
              "    return {\n",
              "      response: {\n",
              "        action: 'complete',\n",
              "      }\n",
              "    };\n",
              "  }\n",
              "\n",
              "  for (const file of files) {\n",
              "    const li = document.createElement('li');\n",
              "    li.append(span(file.name, {fontWeight: 'bold'}));\n",
              "    li.append(span(\n",
              "        `(${file.type || 'n/a'}) - ${file.size} bytes, ` +\n",
              "        `last modified: ${\n",
              "            file.lastModifiedDate ? file.lastModifiedDate.toLocaleDateString() :\n",
              "                                    'n/a'} - `));\n",
              "    const percent = span('0% done');\n",
              "    li.appendChild(percent);\n",
              "\n",
              "    outputElement.appendChild(li);\n",
              "\n",
              "    const fileDataPromise = new Promise((resolve) => {\n",
              "      const reader = new FileReader();\n",
              "      reader.onload = (e) => {\n",
              "        resolve(e.target.result);\n",
              "      };\n",
              "      reader.readAsArrayBuffer(file);\n",
              "    });\n",
              "    // Wait for the data to be ready.\n",
              "    let fileData = yield {\n",
              "      promise: fileDataPromise,\n",
              "      response: {\n",
              "        action: 'continue',\n",
              "      }\n",
              "    };\n",
              "\n",
              "    // Use a chunked sending to avoid message size limits. See b/62115660.\n",
              "    let position = 0;\n",
              "    do {\n",
              "      const length = Math.min(fileData.byteLength - position, MAX_PAYLOAD_SIZE);\n",
              "      const chunk = new Uint8Array(fileData, position, length);\n",
              "      position += length;\n",
              "\n",
              "      const base64 = btoa(String.fromCharCode.apply(null, chunk));\n",
              "      yield {\n",
              "        response: {\n",
              "          action: 'append',\n",
              "          file: file.name,\n",
              "          data: base64,\n",
              "        },\n",
              "      };\n",
              "\n",
              "      let percentDone = fileData.byteLength === 0 ?\n",
              "          100 :\n",
              "          Math.round((position / fileData.byteLength) * 100);\n",
              "      percent.textContent = `${percentDone}% done`;\n",
              "\n",
              "    } while (position < fileData.byteLength);\n",
              "  }\n",
              "\n",
              "  // All done.\n",
              "  yield {\n",
              "    response: {\n",
              "      action: 'complete',\n",
              "    }\n",
              "  };\n",
              "}\n",
              "\n",
              "scope.google = scope.google || {};\n",
              "scope.google.colab = scope.google.colab || {};\n",
              "scope.google.colab._files = {\n",
              "  _uploadFiles,\n",
              "  _uploadFilesContinue,\n",
              "};\n",
              "})(self);\n",
              "</script> "
            ]
          },
          "metadata": {}
        },
        {
          "output_type": "stream",
          "name": "stdout",
          "text": [
            "Saving Indian Cities Database.csv to Indian Cities Database (1).csv\n",
            "Saving indian-cities-dataset.csv to indian-cities-dataset (1).csv\n",
            "Saving City.csv to City (1).csv\n",
            "Saving Top Indian Places to Visit.csv to Top Indian Places to Visit (1).csv\n"
          ]
        }
      ],
      "source": [
        "import pandas as pd\n",
        "import numpy as np\n",
        "\n",
        "# Upload your files:\n",
        "# Go to the 'Files' tab in Colab and upload files, or use:\n",
        "from google.colab import files\n",
        "uploaded = files.upload()\n",
        "\n",
        "# Load datasets\n",
        "cities_db = pd.read_csv('Indian Cities Database.csv')           # City, Lat, Long, State, etc.\n",
        "city_distances = pd.read_csv('indian-cities-dataset.csv')       # Origin, Destination, Distance\n",
        "tourist_details = pd.read_csv('City.csv')                       # City, Ratings, Ideal_duration, etc.\n",
        "top_places = pd.read_csv('Top Indian Places to Visit.csv')      # Zone, State, City, Name, Type, etc.\n",
        "\n"
      ]
    },
    {
      "cell_type": "markdown",
      "source": [],
      "metadata": {
        "id": "ocTYEk8FrsKS"
      }
    },
    {
      "cell_type": "code",
      "source": [
        "print(cities_db.head())\n",
        "print(city_distances.head())\n",
        "print(tourist_details.head())\n",
        "print(top_places.head())\n",
        "\n"
      ],
      "metadata": {
        "colab": {
          "base_uri": "https://localhost:8080/"
        },
        "id": "19uv818hrszu",
        "outputId": "bf08fdc2-4ffa-4c96-c520-09460845ffd2"
      },
      "execution_count": null,
      "outputs": [
        {
          "output_type": "stream",
          "name": "stdout",
          "text": [
            "         City        Lat       Long country iso2          State\n",
            "0      Abohar  30.144533  74.195520   India   IN         Punjab\n",
            "1    Adilabad  19.400000  78.310000   India   IN      Telangana\n",
            "2    Agartala  23.836049  91.279386   India   IN        Tripura\n",
            "3        Agra  27.187935  78.003944   India   IN  Uttar Pradesh\n",
            "4  Ahmadnagar  19.094571  74.738432   India   IN    Maharashtra\n",
            "      Origin Destination  Distance\n",
            "0       Agra       Delhi       240\n",
            "1       Agra     Lucknow       334\n",
            "2       Agra      Kanpur       277\n",
            "3  Ahmedabad      Mumbai       526\n",
            "4  Ahmedabad        Pune       663\n",
            "          City  Ratings Ideal_duration  Best_time_to_visit  \\\n",
            "0       Manali      4.5            2-4        October-June   \n",
            "1   Leh Ladakh      4.6            5-7         JulyOctober   \n",
            "2        Coorg      4.2            2-3      September-June   \n",
            "3      Andaman      4.5            4-6       October-March   \n",
            "4  Lakshadweep      4.0            4-6  September-February   \n",
            "\n",
            "                                           City_desc  \n",
            "0  [' One of the most popular hill stations in Hi...  \n",
            "1  [\" Ladakh is a union territory in the Kashmir ...  \n",
            "2  [' Located amidst imposing mountains in Karnat...  \n",
            "3  [' Replete with turquoise blue water beaches a...  \n",
            "4  [\" Formerly known as Laccadive Islands, Laksha...  \n",
            "   Unnamed: 0      Zone  State   City                  Name          Type  \\\n",
            "0           0  Northern  Delhi  Delhi            India Gate  War Memorial   \n",
            "1           1  Northern  Delhi  Delhi        Humayun's Tomb          Tomb   \n",
            "2           2  Northern  Delhi  Delhi     Akshardham Temple        Temple   \n",
            "3           3  Northern  Delhi  Delhi  Waste to Wonder Park    Theme Park   \n",
            "4           4  Northern  Delhi  Delhi         Jantar Mantar   Observatory   \n",
            "\n",
            "  Establishment Year  time needed to visit in hrs  Google review rating  \\\n",
            "0               1921                          0.5                   4.6   \n",
            "1               1572                          2.0                   4.5   \n",
            "2               2005                          5.0                   4.6   \n",
            "3               2019                          2.0                   4.1   \n",
            "4               1724                          2.0                   4.2   \n",
            "\n",
            "   Entrance Fee in INR Airport with 50km Radius Weekly Off   Significance  \\\n",
            "0                    0                      Yes        NaN     Historical   \n",
            "1                   30                      Yes        NaN     Historical   \n",
            "2                   60                      Yes        NaN      Religious   \n",
            "3                   50                      Yes     Monday  Environmental   \n",
            "4                   15                      Yes        NaN     Scientific   \n",
            "\n",
            "  DSLR Allowed  Number of google review in lakhs Best Time to visit  \n",
            "0          Yes                              2.60            Evening  \n",
            "1          Yes                              0.40          Afternoon  \n",
            "2           No                              0.40          Afternoon  \n",
            "3          Yes                              0.27            Evening  \n",
            "4          Yes                              0.31            Morning  \n"
          ]
        }
      ]
    },
    {
      "cell_type": "code",
      "source": [
        "# Remove duplicates\n",
        "cities_db.drop_duplicates(inplace=True)\n",
        "city_distances.drop_duplicates(inplace=True)\n",
        "tourist_details.drop_duplicates(inplace=True)\n",
        "top_places.drop_duplicates(inplace=True)\n",
        "\n",
        "# Standardize city names for consistent merging\n",
        "def clean_city(x):\n",
        "    return str(x).strip().title()\n",
        "\n",
        "cities_db['City'] = cities_db['City'].apply(clean_city)\n",
        "city_distances['Origin'] = city_distances['Origin'].apply(clean_city)\n",
        "city_distances['Destination'] = city_distances['Destination'].apply(clean_city)\n",
        "tourist_details['City'] = tourist_details['City'].apply(clean_city)\n",
        "top_places['City'] = top_places['City'].apply(clean_city)\n"
      ],
      "metadata": {
        "id": "EAiuAANLr_k-"
      },
      "execution_count": null,
      "outputs": []
    },
    {
      "cell_type": "code",
      "source": [
        "print(cities_db[['City']].head(10))\n",
        "print(city_distances[['Origin', 'Destination']].head(10))\n",
        "print(tourist_details[['City']].head(10))\n",
        "print(top_places[['City']].head(10))\n"
      ],
      "metadata": {
        "colab": {
          "base_uri": "https://localhost:8080/"
        },
        "id": "lnSK4lmcskw-",
        "outputId": "8ba1b50f-903d-42ca-f086-4df92a5b098e"
      },
      "execution_count": null,
      "outputs": [
        {
          "output_type": "stream",
          "name": "stdout",
          "text": [
            "         City\n",
            "0      Abohar\n",
            "1    Adilabad\n",
            "2    Agartala\n",
            "3        Agra\n",
            "4  Ahmadnagar\n",
            "5   Ahmedabad\n",
            "6      Aizawl\n",
            "7       Ajmer\n",
            "8       Akola\n",
            "9   Alappuzha\n",
            "      Origin Destination\n",
            "0       Agra       Delhi\n",
            "1       Agra     Lucknow\n",
            "2       Agra      Kanpur\n",
            "3  Ahmedabad      Mumbai\n",
            "4  Ahmedabad        Pune\n",
            "5  Ahmedabad      Jaipur\n",
            "6  Ahmedabad     Udaipur\n",
            "7  Bengaluru        Pune\n",
            "8  Bengaluru   Hyderabad\n",
            "9  Bengaluru     Chennai\n",
            "          City\n",
            "0       Manali\n",
            "1   Leh Ladakh\n",
            "2        Coorg\n",
            "3      Andaman\n",
            "4  Lakshadweep\n",
            "5          Goa\n",
            "6      Udaipur\n",
            "7     Srinagar\n",
            "8      Gangtok\n",
            "9       Munnar\n",
            "    City\n",
            "0  Delhi\n",
            "1  Delhi\n",
            "2  Delhi\n",
            "3  Delhi\n",
            "4  Delhi\n",
            "5  Delhi\n",
            "6  Delhi\n",
            "7  Delhi\n",
            "8  Delhi\n",
            "9  Delhi\n"
          ]
        }
      ]
    },
    {
      "cell_type": "code",
      "source": [
        "print(cities_db['City'].duplicated().sum())\n",
        "print(city_distances.duplicated().sum())\n",
        "print(tourist_details.duplicated().sum())\n",
        "print(top_places.duplicated().sum())\n"
      ],
      "metadata": {
        "colab": {
          "base_uri": "https://localhost:8080/"
        },
        "id": "LylMPHAAsuoA",
        "outputId": "ab13421a-0da6-462e-d2e2-8a78740eca6b"
      },
      "execution_count": null,
      "outputs": [
        {
          "output_type": "stream",
          "name": "stdout",
          "text": [
            "1\n",
            "0\n",
            "0\n",
            "0\n"
          ]
        }
      ]
    },
    {
      "cell_type": "code",
      "source": [
        "print(cities_db['City'].unique()[:20])\n",
        "print(city_distances['Origin'].unique()[:20])\n",
        "print(city_distances['Destination'].unique()[:20])\n"
      ],
      "metadata": {
        "colab": {
          "base_uri": "https://localhost:8080/"
        },
        "id": "sRkYaXk6tD5b",
        "outputId": "37729c72-030a-49a5-ae9a-fca3f62cf08d"
      },
      "execution_count": null,
      "outputs": [
        {
          "output_type": "stream",
          "name": "stdout",
          "text": [
            "['Abohar' 'Adilabad' 'Agartala' 'Agra' 'Ahmadnagar' 'Ahmedabad' 'Aizawl'\n",
            " 'Ajmer' 'Akola' 'Alappuzha' 'Aligarh' 'Alipurduar' 'Allahabad' 'Alwar'\n",
            " 'Ambala' 'Amaravati' 'Amritsar' 'Asansol' 'Aurangabad' 'Bakshpur']\n",
            "['Agra' 'Ahmedabad' 'Bengaluru' 'Bhubaneswar' 'Chennai' 'Delhi' 'Goa'\n",
            " 'Hyderabad' 'Jaipur' 'Kanpur' 'Kochi' 'Kolkata' 'Lucknow' 'Mumbai'\n",
            " 'Patna' 'Pune' 'Thiruvananthapuram' 'Udaipur' 'Varanasi' 'Vishakhapatnam']\n",
            "['Delhi' 'Lucknow' 'Kanpur' 'Mumbai' 'Pune' 'Jaipur' 'Udaipur' 'Hyderabad'\n",
            " 'Chennai' 'Goa' 'Kolkata' 'Vishakhapatnam' 'Patna' 'Bengaluru' 'Kochi'\n",
            " 'Agra' 'Thiruvananthapuram' 'Ahmedabad' 'Varanasi' 'Bhubaneswar']\n"
          ]
        }
      ]
    },
    {
      "cell_type": "code",
      "source": [
        "print(cities_db['City'].isnull().sum())\n",
        "print(city_distances['Origin'].isnull().sum())\n",
        "print(city_distances['Destination'].isnull().sum())\n"
      ],
      "metadata": {
        "colab": {
          "base_uri": "https://localhost:8080/"
        },
        "id": "L0-ffyENtF_Z",
        "outputId": "bc7fac53-ba6c-4024-b75f-a8380834ee67"
      },
      "execution_count": null,
      "outputs": [
        {
          "output_type": "stream",
          "name": "stdout",
          "text": [
            "0\n",
            "0\n",
            "0\n"
          ]
        }
      ]
    },
    {
      "cell_type": "code",
      "source": [
        "# Merge origin city info\n",
        "city_distances = city_distances.merge(\n",
        "    cities_db[['City', 'Lat', 'Long', 'State']],\n",
        "    left_on='Origin', right_on='City', how='left'\n",
        ").rename(columns={'Lat':'Origin_Lat', 'Long':'Origin_Long', 'State':'Origin_State'})\n",
        "city_distances.drop('City', axis=1, inplace=True)\n",
        "\n",
        "# Merge destination city info\n",
        "city_distances = city_distances.merge(\n",
        "    cities_db[['City', 'Lat', 'Long', 'State']],\n",
        "    left_on='Destination', right_on='City', how='left'\n",
        ").rename(columns={'Lat':'Dest_Lat', 'Long':'Dest_Long', 'State':'Dest_State'})\n",
        "city_distances.drop('City', axis=1, inplace=True)\n"
      ],
      "metadata": {
        "id": "M2sfWJjjtoiM"
      },
      "execution_count": null,
      "outputs": []
    },
    {
      "cell_type": "code",
      "source": [
        "# Merge tourist details for destinations\n",
        "merged_df = city_distances.merge(\n",
        "    tourist_details, left_on='Destination', right_on='City', how='left'\n",
        ")\n",
        "merged_df.drop('City', axis=1, inplace=True)  # Remove duplicate 'City' column if present\n"
      ],
      "metadata": {
        "id": "zA_qZIAhttcC"
      },
      "execution_count": null,
      "outputs": []
    },
    {
      "cell_type": "code",
      "source": [
        "# Select top places columns\n",
        "places_df = top_places[['City', 'Name', 'Type', 'Best Time to visit']]\n",
        "\n",
        "# Merge top places info\n",
        "merged_df = merged_df.merge(\n",
        "    places_df, left_on='Destination', right_on='City', how='left'\n",
        ")\n",
        "merged_df.drop('City', axis=1, inplace=True)\n"
      ],
      "metadata": {
        "id": "L3amXLmKtwJh"
      },
      "execution_count": null,
      "outputs": []
    },
    {
      "cell_type": "code",
      "source": [
        "merged_df.to_csv('merged_tourism_data.csv', index=False)\n"
      ],
      "metadata": {
        "id": "qSrg8o-gtyvy"
      },
      "execution_count": null,
      "outputs": []
    },
    {
      "cell_type": "code",
      "source": [
        "print(merged_df.head())\n"
      ],
      "metadata": {
        "colab": {
          "base_uri": "https://localhost:8080/"
        },
        "id": "TXzMxJ0St3Fx",
        "outputId": "f6ae8ccd-1dcf-470e-a0b5-54b3a433f16b"
      },
      "execution_count": null,
      "outputs": [
        {
          "output_type": "stream",
          "name": "stdout",
          "text": [
            "  Origin Destination  Distance  Origin_Lat  Origin_Long   Origin_State  \\\n",
            "0   Agra       Delhi       240   27.187935    78.003944  Uttar Pradesh   \n",
            "1   Agra       Delhi       240   27.187935    78.003944  Uttar Pradesh   \n",
            "2   Agra       Delhi       240   27.187935    78.003944  Uttar Pradesh   \n",
            "3   Agra       Delhi       240   27.187935    78.003944  Uttar Pradesh   \n",
            "4   Agra       Delhi       240   27.187935    78.003944  Uttar Pradesh   \n",
            "\n",
            "    Dest_Lat  Dest_Long Dest_State  Ratings Ideal_duration Best_time_to_visit  \\\n",
            "0  28.651952  77.231495      Delhi      4.1            3-5       OctoberMarch   \n",
            "1  28.651952  77.231495      Delhi      4.1            3-5       OctoberMarch   \n",
            "2  28.651952  77.231495      Delhi      4.1            3-5       OctoberMarch   \n",
            "3  28.651952  77.231495      Delhi      4.1            3-5       OctoberMarch   \n",
            "4  28.651952  77.231495      Delhi      4.1            3-5       OctoberMarch   \n",
            "\n",
            "                                           City_desc                  Name  \\\n",
            "0  [' The capital of India, Delhi is a cosmopolit...            India Gate   \n",
            "1  [' The capital of India, Delhi is a cosmopolit...        Humayun's Tomb   \n",
            "2  [' The capital of India, Delhi is a cosmopolit...     Akshardham Temple   \n",
            "3  [' The capital of India, Delhi is a cosmopolit...  Waste to Wonder Park   \n",
            "4  [' The capital of India, Delhi is a cosmopolit...         Jantar Mantar   \n",
            "\n",
            "           Type Best Time to visit  \n",
            "0  War Memorial            Evening  \n",
            "1          Tomb          Afternoon  \n",
            "2        Temple          Afternoon  \n",
            "3    Theme Park            Evening  \n",
            "4   Observatory            Morning  \n"
          ]
        }
      ]
    },
    {
      "cell_type": "code",
      "source": [
        "print(merged_df.shape)\n",
        "print(merged_df.columns)\n"
      ],
      "metadata": {
        "colab": {
          "base_uri": "https://localhost:8080/"
        },
        "id": "MLJiePMAuMun",
        "outputId": "b34cf564-161b-4933-b9f2-6f4aa16d350d"
      },
      "execution_count": null,
      "outputs": [
        {
          "output_type": "stream",
          "name": "stdout",
          "text": [
            "(506, 16)\n",
            "Index(['Origin', 'Destination', 'Distance', 'Origin_Lat', 'Origin_Long',\n",
            "       'Origin_State', 'Dest_Lat', 'Dest_Long', 'Dest_State', 'Ratings',\n",
            "       'Ideal_duration', 'Best_time_to_visit', 'City_desc', 'Name', 'Type',\n",
            "       'Best Time to visit'],\n",
            "      dtype='object')\n"
          ]
        }
      ]
    },
    {
      "cell_type": "code",
      "source": [
        "import pandas as pd\n",
        "from google.colab import files\n",
        "\n",
        "# Step 1: Upload your CSV file (do this only once)\n",
        "uploaded = files.upload()  # This will prompt you to select a CSV file\n",
        "\n",
        "# Step 2: Load the uploaded CSV file with correct encoding\n",
        "merged_df = pd.read_csv('merged_tourism_data.csv', encoding='latin1')  # You can try 'ISO-8859-1' if this fails\n",
        "\n",
        "# Step 3: Fill missing values in 'Ratings' column with the median\n",
        "merged_df['Ratings'].fillna(merged_df['Ratings'].median(), inplace=True)\n",
        "\n",
        "# Step 4: Save the cleaned DataFrame to a new CSV file\n",
        "merged_df.to_csv('merged_tourism_data_cleaned.csv', index=False)\n",
        "\n",
        "# Step 5: Download the cleaned CSV file\n",
        "files.download('merged_tourism_data_cleaned.csv')\n"
      ],
      "metadata": {
        "colab": {
          "base_uri": "https://localhost:8080/",
          "height": 192
        },
        "id": "wTW4x6vXPgR5",
        "outputId": "edc77a96-7150-48a9-c28d-975867510959"
      },
      "execution_count": null,
      "outputs": [
        {
          "output_type": "display_data",
          "data": {
            "text/plain": [
              "<IPython.core.display.HTML object>"
            ],
            "text/html": [
              "\n",
              "     <input type=\"file\" id=\"files-e547c43d-814b-4c4c-b0ef-aa26de4729af\" name=\"files[]\" multiple disabled\n",
              "        style=\"border:none\" />\n",
              "     <output id=\"result-e547c43d-814b-4c4c-b0ef-aa26de4729af\">\n",
              "      Upload widget is only available when the cell has been executed in the\n",
              "      current browser session. Please rerun this cell to enable.\n",
              "      </output>\n",
              "      <script>// Copyright 2017 Google LLC\n",
              "//\n",
              "// Licensed under the Apache License, Version 2.0 (the \"License\");\n",
              "// you may not use this file except in compliance with the License.\n",
              "// You may obtain a copy of the License at\n",
              "//\n",
              "//      http://www.apache.org/licenses/LICENSE-2.0\n",
              "//\n",
              "// Unless required by applicable law or agreed to in writing, software\n",
              "// distributed under the License is distributed on an \"AS IS\" BASIS,\n",
              "// WITHOUT WARRANTIES OR CONDITIONS OF ANY KIND, either express or implied.\n",
              "// See the License for the specific language governing permissions and\n",
              "// limitations under the License.\n",
              "\n",
              "/**\n",
              " * @fileoverview Helpers for google.colab Python module.\n",
              " */\n",
              "(function(scope) {\n",
              "function span(text, styleAttributes = {}) {\n",
              "  const element = document.createElement('span');\n",
              "  element.textContent = text;\n",
              "  for (const key of Object.keys(styleAttributes)) {\n",
              "    element.style[key] = styleAttributes[key];\n",
              "  }\n",
              "  return element;\n",
              "}\n",
              "\n",
              "// Max number of bytes which will be uploaded at a time.\n",
              "const MAX_PAYLOAD_SIZE = 100 * 1024;\n",
              "\n",
              "function _uploadFiles(inputId, outputId) {\n",
              "  const steps = uploadFilesStep(inputId, outputId);\n",
              "  const outputElement = document.getElementById(outputId);\n",
              "  // Cache steps on the outputElement to make it available for the next call\n",
              "  // to uploadFilesContinue from Python.\n",
              "  outputElement.steps = steps;\n",
              "\n",
              "  return _uploadFilesContinue(outputId);\n",
              "}\n",
              "\n",
              "// This is roughly an async generator (not supported in the browser yet),\n",
              "// where there are multiple asynchronous steps and the Python side is going\n",
              "// to poll for completion of each step.\n",
              "// This uses a Promise to block the python side on completion of each step,\n",
              "// then passes the result of the previous step as the input to the next step.\n",
              "function _uploadFilesContinue(outputId) {\n",
              "  const outputElement = document.getElementById(outputId);\n",
              "  const steps = outputElement.steps;\n",
              "\n",
              "  const next = steps.next(outputElement.lastPromiseValue);\n",
              "  return Promise.resolve(next.value.promise).then((value) => {\n",
              "    // Cache the last promise value to make it available to the next\n",
              "    // step of the generator.\n",
              "    outputElement.lastPromiseValue = value;\n",
              "    return next.value.response;\n",
              "  });\n",
              "}\n",
              "\n",
              "/**\n",
              " * Generator function which is called between each async step of the upload\n",
              " * process.\n",
              " * @param {string} inputId Element ID of the input file picker element.\n",
              " * @param {string} outputId Element ID of the output display.\n",
              " * @return {!Iterable<!Object>} Iterable of next steps.\n",
              " */\n",
              "function* uploadFilesStep(inputId, outputId) {\n",
              "  const inputElement = document.getElementById(inputId);\n",
              "  inputElement.disabled = false;\n",
              "\n",
              "  const outputElement = document.getElementById(outputId);\n",
              "  outputElement.innerHTML = '';\n",
              "\n",
              "  const pickedPromise = new Promise((resolve) => {\n",
              "    inputElement.addEventListener('change', (e) => {\n",
              "      resolve(e.target.files);\n",
              "    });\n",
              "  });\n",
              "\n",
              "  const cancel = document.createElement('button');\n",
              "  inputElement.parentElement.appendChild(cancel);\n",
              "  cancel.textContent = 'Cancel upload';\n",
              "  const cancelPromise = new Promise((resolve) => {\n",
              "    cancel.onclick = () => {\n",
              "      resolve(null);\n",
              "    };\n",
              "  });\n",
              "\n",
              "  // Wait for the user to pick the files.\n",
              "  const files = yield {\n",
              "    promise: Promise.race([pickedPromise, cancelPromise]),\n",
              "    response: {\n",
              "      action: 'starting',\n",
              "    }\n",
              "  };\n",
              "\n",
              "  cancel.remove();\n",
              "\n",
              "  // Disable the input element since further picks are not allowed.\n",
              "  inputElement.disabled = true;\n",
              "\n",
              "  if (!files) {\n",
              "    return {\n",
              "      response: {\n",
              "        action: 'complete',\n",
              "      }\n",
              "    };\n",
              "  }\n",
              "\n",
              "  for (const file of files) {\n",
              "    const li = document.createElement('li');\n",
              "    li.append(span(file.name, {fontWeight: 'bold'}));\n",
              "    li.append(span(\n",
              "        `(${file.type || 'n/a'}) - ${file.size} bytes, ` +\n",
              "        `last modified: ${\n",
              "            file.lastModifiedDate ? file.lastModifiedDate.toLocaleDateString() :\n",
              "                                    'n/a'} - `));\n",
              "    const percent = span('0% done');\n",
              "    li.appendChild(percent);\n",
              "\n",
              "    outputElement.appendChild(li);\n",
              "\n",
              "    const fileDataPromise = new Promise((resolve) => {\n",
              "      const reader = new FileReader();\n",
              "      reader.onload = (e) => {\n",
              "        resolve(e.target.result);\n",
              "      };\n",
              "      reader.readAsArrayBuffer(file);\n",
              "    });\n",
              "    // Wait for the data to be ready.\n",
              "    let fileData = yield {\n",
              "      promise: fileDataPromise,\n",
              "      response: {\n",
              "        action: 'continue',\n",
              "      }\n",
              "    };\n",
              "\n",
              "    // Use a chunked sending to avoid message size limits. See b/62115660.\n",
              "    let position = 0;\n",
              "    do {\n",
              "      const length = Math.min(fileData.byteLength - position, MAX_PAYLOAD_SIZE);\n",
              "      const chunk = new Uint8Array(fileData, position, length);\n",
              "      position += length;\n",
              "\n",
              "      const base64 = btoa(String.fromCharCode.apply(null, chunk));\n",
              "      yield {\n",
              "        response: {\n",
              "          action: 'append',\n",
              "          file: file.name,\n",
              "          data: base64,\n",
              "        },\n",
              "      };\n",
              "\n",
              "      let percentDone = fileData.byteLength === 0 ?\n",
              "          100 :\n",
              "          Math.round((position / fileData.byteLength) * 100);\n",
              "      percent.textContent = `${percentDone}% done`;\n",
              "\n",
              "    } while (position < fileData.byteLength);\n",
              "  }\n",
              "\n",
              "  // All done.\n",
              "  yield {\n",
              "    response: {\n",
              "      action: 'complete',\n",
              "    }\n",
              "  };\n",
              "}\n",
              "\n",
              "scope.google = scope.google || {};\n",
              "scope.google.colab = scope.google.colab || {};\n",
              "scope.google.colab._files = {\n",
              "  _uploadFiles,\n",
              "  _uploadFilesContinue,\n",
              "};\n",
              "})(self);\n",
              "</script> "
            ]
          },
          "metadata": {}
        },
        {
          "output_type": "stream",
          "name": "stdout",
          "text": [
            "Saving merged_tourism_data.csv to merged_tourism_data (3).csv\n"
          ]
        },
        {
          "output_type": "stream",
          "name": "stderr",
          "text": [
            "/tmp/ipython-input-3780974041.py:11: FutureWarning: A value is trying to be set on a copy of a DataFrame or Series through chained assignment using an inplace method.\n",
            "The behavior will change in pandas 3.0. This inplace method will never work because the intermediate object on which we are setting values always behaves as a copy.\n",
            "\n",
            "For example, when doing 'df[col].method(value, inplace=True)', try using 'df.method({col: value}, inplace=True)' or df[col] = df[col].method(value) instead, to perform the operation inplace on the original object.\n",
            "\n",
            "\n",
            "  merged_df['Ratings'].fillna(merged_df['Ratings'].median(), inplace=True)\n"
          ]
        },
        {
          "output_type": "display_data",
          "data": {
            "text/plain": [
              "<IPython.core.display.Javascript object>"
            ],
            "application/javascript": [
              "\n",
              "    async function download(id, filename, size) {\n",
              "      if (!google.colab.kernel.accessAllowed) {\n",
              "        return;\n",
              "      }\n",
              "      const div = document.createElement('div');\n",
              "      const label = document.createElement('label');\n",
              "      label.textContent = `Downloading \"${filename}\": `;\n",
              "      div.appendChild(label);\n",
              "      const progress = document.createElement('progress');\n",
              "      progress.max = size;\n",
              "      div.appendChild(progress);\n",
              "      document.body.appendChild(div);\n",
              "\n",
              "      const buffers = [];\n",
              "      let downloaded = 0;\n",
              "\n",
              "      const channel = await google.colab.kernel.comms.open(id);\n",
              "      // Send a message to notify the kernel that we're ready.\n",
              "      channel.send({})\n",
              "\n",
              "      for await (const message of channel.messages) {\n",
              "        // Send a message to notify the kernel that we're ready.\n",
              "        channel.send({})\n",
              "        if (message.buffers) {\n",
              "          for (const buffer of message.buffers) {\n",
              "            buffers.push(buffer);\n",
              "            downloaded += buffer.byteLength;\n",
              "            progress.value = downloaded;\n",
              "          }\n",
              "        }\n",
              "      }\n",
              "      const blob = new Blob(buffers, {type: 'application/binary'});\n",
              "      const a = document.createElement('a');\n",
              "      a.href = window.URL.createObjectURL(blob);\n",
              "      a.download = filename;\n",
              "      div.appendChild(a);\n",
              "      a.click();\n",
              "      div.remove();\n",
              "    }\n",
              "  "
            ]
          },
          "metadata": {}
        },
        {
          "output_type": "display_data",
          "data": {
            "text/plain": [
              "<IPython.core.display.Javascript object>"
            ],
            "application/javascript": [
              "download(\"download_02a4a02b-f8df-4111-9a0c-6d4ca837fab9\", \"merged_tourism_data_cleaned.csv\", 889500)"
            ]
          },
          "metadata": {}
        }
      ]
    },
    {
      "cell_type": "code",
      "source": [
        "# For numeric column 'Ratings'\n",
        "merged_df['Ratings'] = merged_df['Ratings'].fillna(merged_df['Ratings'].median())\n",
        "\n",
        "# FOR 'Ideal_duration':\n",
        "# If it is not already numeric, try to convert\n",
        "merged_df['Ideal_duration'] = pd.to_numeric(merged_df['Ideal_duration'], errors='coerce')\n",
        "merged_df['Ideal_duration'] = merged_df['Ideal_duration'].fillna(merged_df['Ideal_duration'].median())\n",
        "\n",
        "# For categorical column 'Type'\n",
        "merged_df['Type'] = merged_df['Type'].fillna(merged_df['Type'].mode()[0])\n",
        "\n",
        "# For categorical column 'Best_time_to_visit'\n",
        "merged_df['Best_time_to_visit'] = merged_df['Best_time_to_visit'].fillna(merged_df['Best_time_to_visit'].mode())\n"
      ],
      "metadata": {
        "id": "1qBS2jZeQjJ2"
      },
      "execution_count": null,
      "outputs": []
    },
    {
      "cell_type": "code",
      "source": [
        "# 1. (Optional) Check for any remaining missing values\n",
        "print(merged_df.isnull().sum())\n",
        "\n",
        "# 2. Save cleaned data to new CSV\n",
        "merged_df.to_csv('merged_tourism_data_cleaned.csv', index=False)\n",
        "\n",
        "# 3. Download cleaned CSV file\n",
        "from google.colab import files\n",
        "files.download('merged_tourism_data_cleaned.csv')\n"
      ],
      "metadata": {
        "id": "hJsKLN79Rb9Y",
        "outputId": "c13c43e4-3bee-4d40-8ea3-b06631c29f0f",
        "colab": {
          "base_uri": "https://localhost:8080/",
          "height": 312
        }
      },
      "execution_count": null,
      "outputs": [
        {
          "output_type": "stream",
          "name": "stdout",
          "text": [
            "Origin                  0\n",
            "Destination             0\n",
            "Distance                0\n",
            "Origin_Lat              0\n",
            "Origin_Long             0\n",
            "Origin_State            0\n",
            "Dest_Lat                0\n",
            "Dest_Long               0\n",
            "Dest_State              0\n",
            "Ratings                 0\n",
            "Ideal_duration        506\n",
            "Best_time_to_visit    236\n",
            "City_desc              27\n",
            "Name                    1\n",
            "Type                    0\n",
            "Best Time to visit      1\n",
            "dtype: int64\n"
          ]
        },
        {
          "output_type": "display_data",
          "data": {
            "text/plain": [
              "<IPython.core.display.Javascript object>"
            ],
            "application/javascript": [
              "\n",
              "    async function download(id, filename, size) {\n",
              "      if (!google.colab.kernel.accessAllowed) {\n",
              "        return;\n",
              "      }\n",
              "      const div = document.createElement('div');\n",
              "      const label = document.createElement('label');\n",
              "      label.textContent = `Downloading \"${filename}\": `;\n",
              "      div.appendChild(label);\n",
              "      const progress = document.createElement('progress');\n",
              "      progress.max = size;\n",
              "      div.appendChild(progress);\n",
              "      document.body.appendChild(div);\n",
              "\n",
              "      const buffers = [];\n",
              "      let downloaded = 0;\n",
              "\n",
              "      const channel = await google.colab.kernel.comms.open(id);\n",
              "      // Send a message to notify the kernel that we're ready.\n",
              "      channel.send({})\n",
              "\n",
              "      for await (const message of channel.messages) {\n",
              "        // Send a message to notify the kernel that we're ready.\n",
              "        channel.send({})\n",
              "        if (message.buffers) {\n",
              "          for (const buffer of message.buffers) {\n",
              "            buffers.push(buffer);\n",
              "            downloaded += buffer.byteLength;\n",
              "            progress.value = downloaded;\n",
              "          }\n",
              "        }\n",
              "      }\n",
              "      const blob = new Blob(buffers, {type: 'application/binary'});\n",
              "      const a = document.createElement('a');\n",
              "      a.href = window.URL.createObjectURL(blob);\n",
              "      a.download = filename;\n",
              "      div.appendChild(a);\n",
              "      a.click();\n",
              "      div.remove();\n",
              "    }\n",
              "  "
            ]
          },
          "metadata": {}
        },
        {
          "output_type": "display_data",
          "data": {
            "text/plain": [
              "<IPython.core.display.Javascript object>"
            ],
            "application/javascript": [
              "download(\"download_6b83ad71-0d44-4102-b073-eeb5e10e7132\", \"merged_tourism_data_cleaned.csv\", 886632)"
            ]
          },
          "metadata": {}
        }
      ]
    }
  ]
}